{
 "cells": [
  {
   "cell_type": "code",
   "execution_count": 1,
   "metadata": {},
   "outputs": [],
   "source": [
    "import torch\n",
    "from torch.utils.data import Dataset, DataLoader\n",
    "from sklearn.model_selection import train_test_split\n",
    "from sklearn.datasets import load_iris\n",
    "\n",
    "import numpy as np\n",
    "import pandas as pd\n",
    "import matplotlib.pyplot as plt"
   ]
  },
  {
   "cell_type": "code",
   "execution_count": 2,
   "metadata": {},
   "outputs": [],
   "source": [
    "# Create data set object\n",
    "iris = load_iris()"
   ]
  },
  {
   "cell_type": "code",
   "execution_count": 3,
   "metadata": {},
   "outputs": [],
   "source": [
    "# Convert to dataframe\n",
    "iris_df = pd.DataFrame(data = np.c_[iris['data'], iris['target']],\n",
    "                     columns= iris['feature_names'] + ['target'])"
   ]
  },
  {
   "cell_type": "code",
   "execution_count": 4,
   "metadata": {},
   "outputs": [
    {
     "data": {
      "text/html": [
       "<div>\n",
       "<style scoped>\n",
       "    .dataframe tbody tr th:only-of-type {\n",
       "        vertical-align: middle;\n",
       "    }\n",
       "\n",
       "    .dataframe tbody tr th {\n",
       "        vertical-align: top;\n",
       "    }\n",
       "\n",
       "    .dataframe thead th {\n",
       "        text-align: right;\n",
       "    }\n",
       "</style>\n",
       "<table border=\"1\" class=\"dataframe\">\n",
       "  <thead>\n",
       "    <tr style=\"text-align: right;\">\n",
       "      <th></th>\n",
       "      <th>sepal length (cm)</th>\n",
       "      <th>sepal width (cm)</th>\n",
       "      <th>petal length (cm)</th>\n",
       "      <th>petal width (cm)</th>\n",
       "      <th>target</th>\n",
       "    </tr>\n",
       "  </thead>\n",
       "  <tbody>\n",
       "    <tr>\n",
       "      <th>0</th>\n",
       "      <td>5.1</td>\n",
       "      <td>3.5</td>\n",
       "      <td>1.4</td>\n",
       "      <td>0.2</td>\n",
       "      <td>0.0</td>\n",
       "    </tr>\n",
       "    <tr>\n",
       "      <th>1</th>\n",
       "      <td>4.9</td>\n",
       "      <td>3.0</td>\n",
       "      <td>1.4</td>\n",
       "      <td>0.2</td>\n",
       "      <td>0.0</td>\n",
       "    </tr>\n",
       "    <tr>\n",
       "      <th>2</th>\n",
       "      <td>4.7</td>\n",
       "      <td>3.2</td>\n",
       "      <td>1.3</td>\n",
       "      <td>0.2</td>\n",
       "      <td>0.0</td>\n",
       "    </tr>\n",
       "    <tr>\n",
       "      <th>3</th>\n",
       "      <td>4.6</td>\n",
       "      <td>3.1</td>\n",
       "      <td>1.5</td>\n",
       "      <td>0.2</td>\n",
       "      <td>0.0</td>\n",
       "    </tr>\n",
       "    <tr>\n",
       "      <th>4</th>\n",
       "      <td>5.0</td>\n",
       "      <td>3.6</td>\n",
       "      <td>1.4</td>\n",
       "      <td>0.2</td>\n",
       "      <td>0.0</td>\n",
       "    </tr>\n",
       "  </tbody>\n",
       "</table>\n",
       "</div>"
      ],
      "text/plain": [
       "   sepal length (cm)  sepal width (cm)  petal length (cm)  petal width (cm)  \\\n",
       "0                5.1               3.5                1.4               0.2   \n",
       "1                4.9               3.0                1.4               0.2   \n",
       "2                4.7               3.2                1.3               0.2   \n",
       "3                4.6               3.1                1.5               0.2   \n",
       "4                5.0               3.6                1.4               0.2   \n",
       "\n",
       "   target  \n",
       "0     0.0  \n",
       "1     0.0  \n",
       "2     0.0  \n",
       "3     0.0  \n",
       "4     0.0  "
      ]
     },
     "execution_count": 4,
     "metadata": {},
     "output_type": "execute_result"
    }
   ],
   "source": [
    "# Check out\n",
    "iris_df.head()"
   ]
  },
  {
   "cell_type": "code",
   "execution_count": 104,
   "metadata": {},
   "outputs": [
    {
     "data": {
      "text/plain": [
       "[[array([5.1, 3.5, 1.4, 0.2]), 0.0],\n",
       " [array([4.9, 3. , 1.4, 0.2]), 0.0],\n",
       " [array([4.7, 3.2, 1.3, 0.2]), 0.0],\n",
       " [array([4.6, 3.1, 1.5, 0.2]), 0.0],\n",
       " [array([5. , 3.6, 1.4, 0.2]), 0.0],\n",
       " [array([5.4, 3.9, 1.7, 0.4]), 0.0],\n",
       " [array([4.6, 3.4, 1.4, 0.3]), 0.0],\n",
       " [array([5. , 3.4, 1.5, 0.2]), 0.0],\n",
       " [array([4.4, 2.9, 1.4, 0.2]), 0.0],\n",
       " [array([4.9, 3.1, 1.5, 0.1]), 0.0],\n",
       " [array([5.4, 3.7, 1.5, 0.2]), 0.0],\n",
       " [array([4.8, 3.4, 1.6, 0.2]), 0.0],\n",
       " [array([4.8, 3. , 1.4, 0.1]), 0.0],\n",
       " [array([4.3, 3. , 1.1, 0.1]), 0.0],\n",
       " [array([5.8, 4. , 1.2, 0.2]), 0.0],\n",
       " [array([5.7, 4.4, 1.5, 0.4]), 0.0],\n",
       " [array([5.4, 3.9, 1.3, 0.4]), 0.0],\n",
       " [array([5.1, 3.5, 1.4, 0.3]), 0.0],\n",
       " [array([5.7, 3.8, 1.7, 0.3]), 0.0],\n",
       " [array([5.1, 3.8, 1.5, 0.3]), 0.0],\n",
       " [array([5.4, 3.4, 1.7, 0.2]), 0.0],\n",
       " [array([5.1, 3.7, 1.5, 0.4]), 0.0],\n",
       " [array([4.6, 3.6, 1. , 0.2]), 0.0],\n",
       " [array([5.1, 3.3, 1.7, 0.5]), 0.0],\n",
       " [array([4.8, 3.4, 1.9, 0.2]), 0.0],\n",
       " [array([5. , 3. , 1.6, 0.2]), 0.0],\n",
       " [array([5. , 3.4, 1.6, 0.4]), 0.0],\n",
       " [array([5.2, 3.5, 1.5, 0.2]), 0.0],\n",
       " [array([5.2, 3.4, 1.4, 0.2]), 0.0],\n",
       " [array([4.7, 3.2, 1.6, 0.2]), 0.0],\n",
       " [array([4.8, 3.1, 1.6, 0.2]), 0.0],\n",
       " [array([5.4, 3.4, 1.5, 0.4]), 0.0],\n",
       " [array([5.2, 4.1, 1.5, 0.1]), 0.0],\n",
       " [array([5.5, 4.2, 1.4, 0.2]), 0.0],\n",
       " [array([4.9, 3.1, 1.5, 0.2]), 0.0],\n",
       " [array([5. , 3.2, 1.2, 0.2]), 0.0],\n",
       " [array([5.5, 3.5, 1.3, 0.2]), 0.0],\n",
       " [array([4.9, 3.6, 1.4, 0.1]), 0.0],\n",
       " [array([4.4, 3. , 1.3, 0.2]), 0.0],\n",
       " [array([5.1, 3.4, 1.5, 0.2]), 0.0],\n",
       " [array([5. , 3.5, 1.3, 0.3]), 0.0],\n",
       " [array([4.5, 2.3, 1.3, 0.3]), 0.0],\n",
       " [array([4.4, 3.2, 1.3, 0.2]), 0.0],\n",
       " [array([5. , 3.5, 1.6, 0.6]), 0.0],\n",
       " [array([5.1, 3.8, 1.9, 0.4]), 0.0],\n",
       " [array([4.8, 3. , 1.4, 0.3]), 0.0],\n",
       " [array([5.1, 3.8, 1.6, 0.2]), 0.0],\n",
       " [array([4.6, 3.2, 1.4, 0.2]), 0.0],\n",
       " [array([5.3, 3.7, 1.5, 0.2]), 0.0],\n",
       " [array([5. , 3.3, 1.4, 0.2]), 0.0],\n",
       " [array([7. , 3.2, 4.7, 1.4]), 1.0],\n",
       " [array([6.4, 3.2, 4.5, 1.5]), 1.0],\n",
       " [array([6.9, 3.1, 4.9, 1.5]), 1.0],\n",
       " [array([5.5, 2.3, 4. , 1.3]), 1.0],\n",
       " [array([6.5, 2.8, 4.6, 1.5]), 1.0],\n",
       " [array([5.7, 2.8, 4.5, 1.3]), 1.0],\n",
       " [array([6.3, 3.3, 4.7, 1.6]), 1.0],\n",
       " [array([4.9, 2.4, 3.3, 1. ]), 1.0],\n",
       " [array([6.6, 2.9, 4.6, 1.3]), 1.0],\n",
       " [array([5.2, 2.7, 3.9, 1.4]), 1.0],\n",
       " [array([5. , 2. , 3.5, 1. ]), 1.0],\n",
       " [array([5.9, 3. , 4.2, 1.5]), 1.0],\n",
       " [array([6. , 2.2, 4. , 1. ]), 1.0],\n",
       " [array([6.1, 2.9, 4.7, 1.4]), 1.0],\n",
       " [array([5.6, 2.9, 3.6, 1.3]), 1.0],\n",
       " [array([6.7, 3.1, 4.4, 1.4]), 1.0],\n",
       " [array([5.6, 3. , 4.5, 1.5]), 1.0],\n",
       " [array([5.8, 2.7, 4.1, 1. ]), 1.0],\n",
       " [array([6.2, 2.2, 4.5, 1.5]), 1.0],\n",
       " [array([5.6, 2.5, 3.9, 1.1]), 1.0],\n",
       " [array([5.9, 3.2, 4.8, 1.8]), 1.0],\n",
       " [array([6.1, 2.8, 4. , 1.3]), 1.0],\n",
       " [array([6.3, 2.5, 4.9, 1.5]), 1.0],\n",
       " [array([6.1, 2.8, 4.7, 1.2]), 1.0],\n",
       " [array([6.4, 2.9, 4.3, 1.3]), 1.0],\n",
       " [array([6.6, 3. , 4.4, 1.4]), 1.0],\n",
       " [array([6.8, 2.8, 4.8, 1.4]), 1.0],\n",
       " [array([6.7, 3. , 5. , 1.7]), 1.0],\n",
       " [array([6. , 2.9, 4.5, 1.5]), 1.0],\n",
       " [array([5.7, 2.6, 3.5, 1. ]), 1.0],\n",
       " [array([5.5, 2.4, 3.8, 1.1]), 1.0],\n",
       " [array([5.5, 2.4, 3.7, 1. ]), 1.0],\n",
       " [array([5.8, 2.7, 3.9, 1.2]), 1.0],\n",
       " [array([6. , 2.7, 5.1, 1.6]), 1.0],\n",
       " [array([5.4, 3. , 4.5, 1.5]), 1.0],\n",
       " [array([6. , 3.4, 4.5, 1.6]), 1.0],\n",
       " [array([6.7, 3.1, 4.7, 1.5]), 1.0],\n",
       " [array([6.3, 2.3, 4.4, 1.3]), 1.0],\n",
       " [array([5.6, 3. , 4.1, 1.3]), 1.0],\n",
       " [array([5.5, 2.5, 4. , 1.3]), 1.0],\n",
       " [array([5.5, 2.6, 4.4, 1.2]), 1.0],\n",
       " [array([6.1, 3. , 4.6, 1.4]), 1.0],\n",
       " [array([5.8, 2.6, 4. , 1.2]), 1.0],\n",
       " [array([5. , 2.3, 3.3, 1. ]), 1.0],\n",
       " [array([5.6, 2.7, 4.2, 1.3]), 1.0],\n",
       " [array([5.7, 3. , 4.2, 1.2]), 1.0],\n",
       " [array([5.7, 2.9, 4.2, 1.3]), 1.0],\n",
       " [array([6.2, 2.9, 4.3, 1.3]), 1.0],\n",
       " [array([5.1, 2.5, 3. , 1.1]), 1.0],\n",
       " [array([5.7, 2.8, 4.1, 1.3]), 1.0],\n",
       " [array([6.3, 3.3, 6. , 2.5]), 2.0],\n",
       " [array([5.8, 2.7, 5.1, 1.9]), 2.0],\n",
       " [array([7.1, 3. , 5.9, 2.1]), 2.0],\n",
       " [array([6.3, 2.9, 5.6, 1.8]), 2.0],\n",
       " [array([6.5, 3. , 5.8, 2.2]), 2.0],\n",
       " [array([7.6, 3. , 6.6, 2.1]), 2.0],\n",
       " [array([4.9, 2.5, 4.5, 1.7]), 2.0],\n",
       " [array([7.3, 2.9, 6.3, 1.8]), 2.0],\n",
       " [array([6.7, 2.5, 5.8, 1.8]), 2.0],\n",
       " [array([7.2, 3.6, 6.1, 2.5]), 2.0],\n",
       " [array([6.5, 3.2, 5.1, 2. ]), 2.0],\n",
       " [array([6.4, 2.7, 5.3, 1.9]), 2.0],\n",
       " [array([6.8, 3. , 5.5, 2.1]), 2.0],\n",
       " [array([5.7, 2.5, 5. , 2. ]), 2.0],\n",
       " [array([5.8, 2.8, 5.1, 2.4]), 2.0],\n",
       " [array([6.4, 3.2, 5.3, 2.3]), 2.0],\n",
       " [array([6.5, 3. , 5.5, 1.8]), 2.0],\n",
       " [array([7.7, 3.8, 6.7, 2.2]), 2.0],\n",
       " [array([7.7, 2.6, 6.9, 2.3]), 2.0],\n",
       " [array([6. , 2.2, 5. , 1.5]), 2.0],\n",
       " [array([6.9, 3.2, 5.7, 2.3]), 2.0],\n",
       " [array([5.6, 2.8, 4.9, 2. ]), 2.0],\n",
       " [array([7.7, 2.8, 6.7, 2. ]), 2.0],\n",
       " [array([6.3, 2.7, 4.9, 1.8]), 2.0],\n",
       " [array([6.7, 3.3, 5.7, 2.1]), 2.0],\n",
       " [array([7.2, 3.2, 6. , 1.8]), 2.0],\n",
       " [array([6.2, 2.8, 4.8, 1.8]), 2.0],\n",
       " [array([6.1, 3. , 4.9, 1.8]), 2.0],\n",
       " [array([6.4, 2.8, 5.6, 2.1]), 2.0],\n",
       " [array([7.2, 3. , 5.8, 1.6]), 2.0],\n",
       " [array([7.4, 2.8, 6.1, 1.9]), 2.0],\n",
       " [array([7.9, 3.8, 6.4, 2. ]), 2.0],\n",
       " [array([6.4, 2.8, 5.6, 2.2]), 2.0],\n",
       " [array([6.3, 2.8, 5.1, 1.5]), 2.0],\n",
       " [array([6.1, 2.6, 5.6, 1.4]), 2.0],\n",
       " [array([7.7, 3. , 6.1, 2.3]), 2.0],\n",
       " [array([6.3, 3.4, 5.6, 2.4]), 2.0],\n",
       " [array([6.4, 3.1, 5.5, 1.8]), 2.0],\n",
       " [array([6. , 3. , 4.8, 1.8]), 2.0],\n",
       " [array([6.9, 3.1, 5.4, 2.1]), 2.0],\n",
       " [array([6.7, 3.1, 5.6, 2.4]), 2.0],\n",
       " [array([6.9, 3.1, 5.1, 2.3]), 2.0],\n",
       " [array([5.8, 2.7, 5.1, 1.9]), 2.0],\n",
       " [array([6.8, 3.2, 5.9, 2.3]), 2.0],\n",
       " [array([6.7, 3.3, 5.7, 2.5]), 2.0],\n",
       " [array([6.7, 3. , 5.2, 2.3]), 2.0],\n",
       " [array([6.3, 2.5, 5. , 1.9]), 2.0],\n",
       " [array([6.5, 3. , 5.2, 2. ]), 2.0],\n",
       " [array([6.2, 3.4, 5.4, 2.3]), 2.0],\n",
       " [array([5.9, 3. , 5.1, 1.8]), 2.0]]"
      ]
     },
     "execution_count": 104,
     "metadata": {},
     "output_type": "execute_result"
    }
   ],
   "source": [
    "# get features and labels from dataframe\n",
    "X = iris_df.drop(\"target\",axis=1).values\n",
    "y = iris_df[\"target\"].values\n",
    "\n",
    "X_train = []\n",
    "for i in range(len(X)):\n",
    "    X_train.append([X[i], y[i]])\n",
    "X_train"
   ]
  },
  {
   "cell_type": "code",
   "execution_count": 95,
   "metadata": {},
   "outputs": [],
   "source": [
    "X_train, X_test = train_test_split(X_train,test_size=0.30,random_state=42\n",
    "                                                    ,shuffle=True)"
   ]
  },
  {
   "cell_type": "code",
   "execution_count": 96,
   "metadata": {},
   "outputs": [
    {
     "name": "stdout",
     "output_type": "stream",
     "text": [
      "45\n"
     ]
    }
   ],
   "source": [
    "print(len(X_test))"
   ]
  },
  {
   "cell_type": "code",
   "execution_count": 76,
   "metadata": {},
   "outputs": [],
   "source": [
    "valid_size = 0.2\n",
    "num_train = len(X_train)\n",
    "indices = list(range(num_train))\n",
    "np.random.shuffle(indices)\n",
    "split = int(np.floor(valid_size * num_train))\n",
    "train_idx, valid_idx = indices[split:], indices[:split]"
   ]
  },
  {
   "cell_type": "code",
   "execution_count": 97,
   "metadata": {},
   "outputs": [],
   "source": [
    "train_loader = torch.utils.data.DataLoader(X_train, batch_size=5)\n",
    "test_loader = torch.utils.data.DataLoader(X_test, batch_size=5)"
   ]
  },
  {
   "cell_type": "code",
   "execution_count": 98,
   "metadata": {},
   "outputs": [
    {
     "data": {
      "text/plain": [
       "21"
      ]
     },
     "execution_count": 98,
     "metadata": {},
     "output_type": "execute_result"
    }
   ],
   "source": [
    "len(train_loader)"
   ]
  },
  {
   "cell_type": "code",
   "execution_count": 99,
   "metadata": {},
   "outputs": [
    {
     "data": {
      "text/plain": [
       "9"
      ]
     },
     "execution_count": 99,
     "metadata": {},
     "output_type": "execute_result"
    }
   ],
   "source": [
    "len(test_loader)"
   ]
  },
  {
   "cell_type": "code",
   "execution_count": 123,
   "metadata": {},
   "outputs": [],
   "source": [
    "from torch import nn\n",
    "import torch.nn.functional as F\n",
    "from torch import optim\n",
    "\n",
    "class Model(nn.Module):\n",
    "    def __init__(self, input_features=4, hidden_layer1=6, hidden_layer2=6, output_features=3):\n",
    "        super().__init__()\n",
    "        self.fc1 = nn.Linear(input_features,hidden_layer1)                  \n",
    "        self.fc2 = nn.Linear(hidden_layer1, hidden_layer2)                  \n",
    "        self.out = nn.Linear(hidden_layer2, output_features)\n",
    "        \n",
    "    def forward(self, x):\n",
    "        x = F.relu(self.fc1(x))\n",
    "        x = F.relu(self.fc2(x))\n",
    "        x = F.log_softmax(x, dim=1)\n",
    "        return x"
   ]
  },
  {
   "cell_type": "code",
   "execution_count": 124,
   "metadata": {},
   "outputs": [
    {
     "data": {
      "text/plain": [
       "Model(\n",
       "  (fc1): Linear(in_features=4, out_features=6, bias=True)\n",
       "  (fc2): Linear(in_features=6, out_features=6, bias=True)\n",
       "  (out): Linear(in_features=6, out_features=3, bias=True)\n",
       ")"
      ]
     },
     "execution_count": 124,
     "metadata": {},
     "output_type": "execute_result"
    }
   ],
   "source": [
    "model = Model()\n",
    "model"
   ]
  },
  {
   "cell_type": "code",
   "execution_count": 125,
   "metadata": {},
   "outputs": [],
   "source": [
    "# CrossEntropy as loss function\n",
    "# use Adam as optimizer\n",
    "criterion = nn.NLLLoss()\n",
    "optimizer = optim.Adam(model.parameters(), lr=0.003)"
   ]
  },
  {
   "cell_type": "code",
   "execution_count": 126,
   "metadata": {},
   "outputs": [
    {
     "name": "stdout",
     "output_type": "stream",
     "text": [
      "Epoch: 1/30..  Training Loss: 1.349..  Test Loss: 1.206..  Test Accuracy: 0.711\n",
      "Epoch: 2/30..  Training Loss: 1.165..  Test Loss: 1.085..  Test Accuracy: 0.711\n",
      "Epoch: 3/30..  Training Loss: 1.049..  Test Loss: 0.968..  Test Accuracy: 0.978\n",
      "Epoch: 4/30..  Training Loss: 0.946..  Test Loss: 0.849..  Test Accuracy: 0.711\n",
      "Epoch: 5/30..  Training Loss: 0.835..  Test Loss: 0.726..  Test Accuracy: 0.711\n",
      "Epoch: 6/30..  Training Loss: 0.739..  Test Loss: 0.618..  Test Accuracy: 0.800\n",
      "Epoch: 7/30..  Training Loss: 0.655..  Test Loss: 0.542..  Test Accuracy: 0.800\n",
      "Epoch: 8/30..  Training Loss: 0.590..  Test Loss: 0.481..  Test Accuracy: 0.889\n",
      "Epoch: 9/30..  Training Loss: 0.538..  Test Loss: 0.436..  Test Accuracy: 0.889\n",
      "Epoch: 10/30..  Training Loss: 0.497..  Test Loss: 0.400..  Test Accuracy: 0.978\n",
      "Epoch: 11/30..  Training Loss: 0.462..  Test Loss: 0.369..  Test Accuracy: 0.978\n",
      "Epoch: 12/30..  Training Loss: 0.433..  Test Loss: 0.344..  Test Accuracy: 0.978\n",
      "Epoch: 13/30..  Training Loss: 0.407..  Test Loss: 0.321..  Test Accuracy: 0.978\n",
      "Epoch: 14/30..  Training Loss: 0.384..  Test Loss: 0.301..  Test Accuracy: 1.000\n",
      "Epoch: 15/30..  Training Loss: 0.363..  Test Loss: 0.282..  Test Accuracy: 1.000\n",
      "Epoch: 16/30..  Training Loss: 0.343..  Test Loss: 0.265..  Test Accuracy: 1.000\n",
      "Epoch: 17/30..  Training Loss: 0.326..  Test Loss: 0.250..  Test Accuracy: 1.000\n",
      "Epoch: 18/30..  Training Loss: 0.310..  Test Loss: 0.236..  Test Accuracy: 1.000\n",
      "Epoch: 19/30..  Training Loss: 0.295..  Test Loss: 0.223..  Test Accuracy: 1.000\n",
      "Epoch: 20/30..  Training Loss: 0.282..  Test Loss: 0.211..  Test Accuracy: 1.000\n",
      "Epoch: 21/30..  Training Loss: 0.269..  Test Loss: 0.200..  Test Accuracy: 1.000\n",
      "Epoch: 22/30..  Training Loss: 0.258..  Test Loss: 0.190..  Test Accuracy: 1.000\n",
      "Epoch: 23/30..  Training Loss: 0.247..  Test Loss: 0.181..  Test Accuracy: 1.000\n",
      "Epoch: 24/30..  Training Loss: 0.238..  Test Loss: 0.172..  Test Accuracy: 1.000\n",
      "Epoch: 25/30..  Training Loss: 0.229..  Test Loss: 0.164..  Test Accuracy: 1.000\n",
      "Epoch: 26/30..  Training Loss: 0.221..  Test Loss: 0.157..  Test Accuracy: 1.000\n",
      "Epoch: 27/30..  Training Loss: 0.214..  Test Loss: 0.150..  Test Accuracy: 1.000\n",
      "Epoch: 28/30..  Training Loss: 0.207..  Test Loss: 0.144..  Test Accuracy: 1.000\n",
      "Epoch: 29/30..  Training Loss: 0.201..  Test Loss: 0.138..  Test Accuracy: 1.000\n",
      "Epoch: 30/30..  Training Loss: 0.195..  Test Loss: 0.133..  Test Accuracy: 1.000\n"
     ]
    }
   ],
   "source": [
    "epochs = 30\n",
    "steps = 0\n",
    "\n",
    "train_losses, test_losses = [], []\n",
    "for e in range(epochs):\n",
    "    running_loss = 0\n",
    "    for feature,label in train_loader:\n",
    "        optimizer.zero_grad()\n",
    "        y = model(feature.float())\n",
    "        loss = criterion(y,label.long())\n",
    "        loss.backward()\n",
    "        optimizer.step()\n",
    "        running_loss += loss.item()\n",
    "    else:\n",
    "        test_loss = 0\n",
    "        accuracy = 0\n",
    "        with torch.no_grad():\n",
    "            for feature,label in test_loader:\n",
    "                y = model(feature.float())\n",
    "                test_loss += criterion(y, label.long())\n",
    "                \n",
    "                ps = torch.exp(y)\n",
    "                top_p, top_class = ps.topk(1, dim=1)\n",
    "                equals = top_class == label.view(*top_class.shape)\n",
    "                accuracy += torch.mean(equals.type(torch.FloatTensor))\n",
    "                \n",
    "        train_losses.append(running_loss/len(train_loader))\n",
    "        test_losses.append(test_loss/len(test_loader))\n",
    "        \n",
    "        print(\"Epoch: {}/{}.. \".format(e+1, epochs),\n",
    "              \"Training Loss: {:.3f}.. \".format(running_loss/len(train_loader)),\n",
    "              \"Test Loss: {:.3f}.. \".format(test_loss/len(test_loader)),\n",
    "              \"Test Accuracy: {:.3f}\".format(accuracy/len(test_loader)))"
   ]
  },
  {
   "cell_type": "code",
   "execution_count": 127,
   "metadata": {},
   "outputs": [
    {
     "data": {
      "text/plain": [
       "<matplotlib.legend.Legend at 0x7fb3f2691f40>"
      ]
     },
     "execution_count": 127,
     "metadata": {},
     "output_type": "execute_result"
    },
    {
     "data": {
      "image/png": "[encoded data removed]",
      "text/plain": [
       "<Figure size 432x288 with 1 Axes>"
      ]
     },
     "metadata": {
      "needs_background": "light"
     },
     "output_type": "display_data"
    }
   ],
   "source": [
    "plt.plot(train_losses, label='Training loss')\n",
    "plt.plot(test_losses, label='Validation loss')\n",
    "plt.legend(frameon=False)"
   ]
  },
  {
   "cell_type": "code",
   "execution_count": null,
   "metadata": {},
   "outputs": [],
   "source": []
  }
 ],
 "metadata": {
  "kernelspec": {
   "display_name": "Python 3",
   "language": "python",
   "name": "python3"
  },
  "language_info": {
   "codemirror_mode": {
    "name": "ipython",
    "version": 3
   },
   "file_extension": ".py",
   "mimetype": "text/x-python",
   "name": "python",
   "nbconvert_exporter": "python",
   "pygments_lexer": "ipython3",
   "version": "3.8.5"
  }
 },
 "nbformat": 4,
 "nbformat_minor": 4
}
